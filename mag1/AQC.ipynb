{
 "cells": [
  {
   "cell_type": "code",
   "execution_count": 63,
   "metadata": {},
   "outputs": [],
   "source": [
    "import numpy as np\n",
    "from numba import jit\n",
    "import matplotlib.pyplot as plt"
   ]
  },
  {
   "cell_type": "code",
   "execution_count": 120,
   "metadata": {},
   "outputs": [],
   "source": [
    "@jit(nopython=True)\n",
    "def dec2bin(x):\n",
    "    b = []\n",
    "    while(x > 0):\n",
    "        d = float(x % 2)\n",
    "        b.append(d)\n",
    "        x = x // 2\n",
    "    b.reverse()\n",
    "    return b\n",
    "\n",
    "@jit(nopython=True)\n",
    "def multiply(A, x):\n",
    "    y = np.zeros_like(x)\n",
    "    for i in range(A.shape[0]):\n",
    "        s = 0\n",
    "        for j in range(A.shape[1]):\n",
    "            s += A[i,j] * x[j]\n",
    "        y[i] = s\n",
    "    return y\n",
    "    \n",
    "@jit(nopython=True)\n",
    "def dot(s1, s2):\n",
    "    s = 0\n",
    "    for i in range(len(s1)):\n",
    "        s += s1[i] * s2[i]\n",
    "    return s\n",
    "\n",
    "@jit(nopython=True)\n",
    "def brute_search(bqp):\n",
    "    \"\"\"\n",
    "    Returns the spectrum of the binary quadratic model.\n",
    "    \"\"\"    \n",
    "    N = bqp.shape[0]\n",
    "    E = np.zeros(2**N)\n",
    "    for i in range(2**N):\n",
    "        x = dec2bin(i)\n",
    "        x = np.array([-1. for j in range(N-len(x))] + [-1. if x[j]==0 else 1. for j in range(len(x))])\n",
    "        E[i] = dot(x, multiply(bqp, x))\n",
    "        print(x, E[i])\n",
    "    \n",
    "    return E"
   ]
  },
  {
   "cell_type": "code",
   "execution_count": 124,
   "metadata": {},
   "outputs": [],
   "source": [
    "N = 4\n",
    "# bqp = np.random.randint(0, 3, (N, N))\n",
    "bqp = np.random.rand(N, N) * 2 - 1\n",
    "bqp = np.triu(bqp, 1)\n",
    "# bqp.round(3)"
   ]
  },
  {
   "cell_type": "code",
   "execution_count": 125,
   "metadata": {},
   "outputs": [
    {
     "name": "stdout",
     "output_type": "stream",
     "text": [
      "[-1. -1. -1. -1.] -0.14097818043108679\n",
      "[-1. -1. -1.  1.] -0.8581428202722436\n",
      "[-1. -1.  1. -1.] -1.4676235746146793\n",
      "[-1. -1.  1.  1.] 0.5005032273256884\n",
      "[-1.  1. -1. -1.] 2.2024428479793974\n",
      "[-1.  1. -1.  1.] -2.167574546406401\n",
      "[-1.  1.  1. -1.] 1.808049499511799\n",
      "[-1.  1.  1.  1.] 0.12332354690752578\n",
      "[ 1. -1. -1. -1.] 0.12332354690752578\n",
      "[ 1. -1. -1.  1.] 1.808049499511799\n",
      "[ 1. -1.  1. -1.] -2.167574546406401\n",
      "[ 1. -1.  1.  1.] 2.2024428479793974\n",
      "[ 1.  1. -1. -1.] 0.5005032273256884\n",
      "[ 1.  1. -1.  1.] -1.4676235746146793\n",
      "[ 1.  1.  1. -1.] -0.8581428202722436\n",
      "[1. 1. 1. 1.] -0.14097818043108679\n"
     ]
    }
   ],
   "source": [
    "E = brute_search(bqp)\n",
    "E = np.sort(E)"
   ]
  },
  {
   "cell_type": "code",
   "execution_count": 126,
   "metadata": {},
   "outputs": [
    {
     "data": {
      "text/plain": [
       "array([-2.16757455, -2.16757455, -1.46762357, -1.46762357, -0.85814282,\n",
       "       -0.85814282, -0.14097818, -0.14097818,  0.12332355,  0.12332355])"
      ]
     },
     "execution_count": 126,
     "metadata": {},
     "output_type": "execute_result"
    }
   ],
   "source": [
    "E[:10]"
   ]
  },
  {
   "cell_type": "code",
   "execution_count": 116,
   "metadata": {},
   "outputs": [
    {
     "data": {
      "text/plain": [
       "(array([   2.,    6.,   14.,    8.,   30.,   50.,   50.,   44.,   66.,\n",
       "         108.,  136.,  162.,  232.,  276.,  386.,  486.,  566.,  682.,\n",
       "         804.,  908., 1048., 1260., 1390., 1490., 1636., 1700., 1816.,\n",
       "        1820., 1818., 1792., 1612., 1514., 1516., 1300., 1154., 1014.,\n",
       "         852.,  690.,  656.,  462.,  374.,  282.,  206.,  124.,   78.,\n",
       "          52.,   38.,   34.,   14.,   10.]),\n",
       " array([-23.02662008, -22.18648066, -21.34634124, -20.50620183,\n",
       "        -19.66606241, -18.82592299, -17.98578358, -17.14564416,\n",
       "        -16.30550474, -15.46536533, -14.62522591, -13.78508649,\n",
       "        -12.94494708, -12.10480766, -11.26466824, -10.42452883,\n",
       "         -9.58438941,  -8.74424999,  -7.90411058,  -7.06397116,\n",
       "         -6.22383174,  -5.38369233,  -4.54355291,  -3.70341349,\n",
       "         -2.86327408,  -2.02313466,  -1.18299524,  -0.34285583,\n",
       "          0.49728359,   1.33742301,   2.17756242,   3.01770184,\n",
       "          3.85784126,   4.69798067,   5.53812009,   6.37825951,\n",
       "          7.21839892,   8.05853834,   8.89867776,   9.73881717,\n",
       "         10.57895659,  11.41909601,  12.25923542,  13.09937484,\n",
       "         13.93951426,  14.77965367,  15.61979309,  16.45993251,\n",
       "         17.30007192,  18.14021134,  18.98035076]),\n",
       " <BarContainer object of 50 artists>)"
      ]
     },
     "execution_count": 116,
     "metadata": {},
     "output_type": "execute_result"
    },
    {
     "data": {
      "image/png": "[encoded data removed]",
      "text/plain": [
       "<Figure size 432x288 with 1 Axes>"
      ]
     },
     "metadata": {
      "needs_background": "light"
     },
     "output_type": "display_data"
    }
   ],
   "source": [
    "plt.close()\n",
    "plt.hist(E, bins=50)"
   ]
  },
  {
   "cell_type": "code",
   "execution_count": 110,
   "metadata": {},
   "outputs": [
    {
     "data": {
      "text/plain": [
       "[<matplotlib.lines.Line2D at 0x7fe84070c550>]"
      ]
     },
     "execution_count": 110,
     "metadata": {},
     "output_type": "execute_result"
    },
    {
     "data": {
      "image/png": "[encoded data removed]",
      "text/plain": [
       "<Figure size 432x288 with 1 Axes>"
      ]
     },
     "metadata": {
      "needs_background": "light"
     },
     "output_type": "display_data"
    }
   ],
   "source": [
    "plt.close()\n",
    "plt.plot(E)"
   ]
  },
  {
   "cell_type": "code",
   "execution_count": null,
   "metadata": {},
   "outputs": [],
   "source": []
  }
 ],
 "metadata": {
  "interpreter": {
   "hash": "053f874ee243d91704b56f6c1ee102b4fad41b1b6c628b74e23895d8d19075ac"
  },
  "kernelspec": {
   "display_name": "Python 3.9.7 ('quspin')",
   "language": "python",
   "name": "python3"
  },
  "language_info": {
   "codemirror_mode": {
    "name": "ipython",
    "version": 3
   },
   "file_extension": ".py",
   "mimetype": "text/x-python",
   "name": "python",
   "nbconvert_exporter": "python",
   "pygments_lexer": "ipython3",
   "version": "3.9.7"
  },
  "orig_nbformat": 4
 },
 "nbformat": 4,
 "nbformat_minor": 2
}
